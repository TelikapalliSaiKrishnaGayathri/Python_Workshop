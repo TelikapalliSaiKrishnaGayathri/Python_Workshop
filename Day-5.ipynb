{
 "cells": [
  {
   "cell_type": "markdown",
   "metadata": {},
   "source": [
    "## regular expressions\n",
    "## OOPS\n",
    "## NumPy\n",
    "## MatPlotlib\n",
    "## Pandas"
   ]
  },
  {
   "cell_type": "markdown",
   "metadata": {},
   "source": [
    "# regular expressions\n",
    "- to check the data is valid or not\n",
    "- filter data"
   ]
  },
  {
   "cell_type": "code",
   "execution_count": 8,
   "metadata": {},
   "outputs": [
    {
     "name": "stdout",
     "output_type": "stream",
     "text": [
      "aca\n",
      "aaa\n"
     ]
    }
   ],
   "source": [
    "l=['abc','aca','aaa']\n",
    "for i in l:\n",
    "    if i.endswith('a'):\n",
    "        print(i)"
   ]
  },
  {
   "cell_type": "code",
   "execution_count": 9,
   "metadata": {},
   "outputs": [
    {
     "name": "stdout",
     "output_type": "stream",
     "text": [
      "aca\n",
      "aaa\n"
     ]
    }
   ],
   "source": [
    "l=['abc','aca','aaa']\n",
    "for i in l:\n",
    "    if i.endswith('a') and i.startswith('a'):\n",
    "        print(i)"
   ]
  },
  {
   "cell_type": "code",
   "execution_count": 10,
   "metadata": {},
   "outputs": [
    {
     "data": {
      "text/plain": [
       "['A',\n",
       " 'ASCII',\n",
       " 'DEBUG',\n",
       " 'DOTALL',\n",
       " 'I',\n",
       " 'IGNORECASE',\n",
       " 'L',\n",
       " 'LOCALE',\n",
       " 'M',\n",
       " 'MULTILINE',\n",
       " 'Match',\n",
       " 'Pattern',\n",
       " 'RegexFlag',\n",
       " 'S',\n",
       " 'Scanner',\n",
       " 'T',\n",
       " 'TEMPLATE',\n",
       " 'U',\n",
       " 'UNICODE',\n",
       " 'VERBOSE',\n",
       " 'X',\n",
       " '_MAXCACHE',\n",
       " '__all__',\n",
       " '__builtins__',\n",
       " '__cached__',\n",
       " '__doc__',\n",
       " '__file__',\n",
       " '__loader__',\n",
       " '__name__',\n",
       " '__package__',\n",
       " '__spec__',\n",
       " '__version__',\n",
       " '_cache',\n",
       " '_compile',\n",
       " '_compile_repl',\n",
       " '_expand',\n",
       " '_locale',\n",
       " '_pickle',\n",
       " '_special_chars_map',\n",
       " '_subx',\n",
       " 'compile',\n",
       " 'copyreg',\n",
       " 'enum',\n",
       " 'error',\n",
       " 'escape',\n",
       " 'findall',\n",
       " 'finditer',\n",
       " 'fullmatch',\n",
       " 'functools',\n",
       " 'match',\n",
       " 'purge',\n",
       " 'search',\n",
       " 'split',\n",
       " 'sre_compile',\n",
       " 'sre_parse',\n",
       " 'sub',\n",
       " 'subn',\n",
       " 'template']"
      ]
     },
     "execution_count": 10,
     "metadata": {},
     "output_type": "execute_result"
    }
   ],
   "source": [
    "import re\n",
    "dir(re)"
   ]
  },
  {
   "cell_type": "code",
   "execution_count": 13,
   "metadata": {},
   "outputs": [
    {
     "data": {
      "text/plain": [
       "True"
      ]
     },
     "execution_count": 13,
     "metadata": {},
     "output_type": "execute_result"
    }
   ],
   "source": [
    "# syntax: re.methodname(pattern,data)\n",
    "\n",
    "s='aaabcd'\n",
    "'a' in s"
   ]
  },
  {
   "cell_type": "code",
   "execution_count": 15,
   "metadata": {},
   "outputs": [
    {
     "data": {
      "text/plain": [
       "<re.Match object; span=(0, 3), match='aaa'>"
      ]
     },
     "execution_count": 15,
     "metadata": {},
     "output_type": "execute_result"
    }
   ],
   "source": [
    "# search method\n",
    "\n",
    "re.search('aaa',s)"
   ]
  },
  {
   "cell_type": "code",
   "execution_count": 18,
   "metadata": {},
   "outputs": [
    {
     "data": {
      "text/plain": [
       "<re.Match object; span=(4, 6), match='aa'>"
      ]
     },
     "execution_count": 18,
     "metadata": {},
     "output_type": "execute_result"
    }
   ],
   "source": [
    "s=\"abcdaa\"\n",
    "re.search('aa',s)"
   ]
  },
  {
   "cell_type": "code",
   "execution_count": 20,
   "metadata": {},
   "outputs": [
    {
     "data": {
      "text/plain": [
       "<re.Match object; span=(0, 1), match='a'>"
      ]
     },
     "execution_count": 20,
     "metadata": {},
     "output_type": "execute_result"
    }
   ],
   "source": [
    "re.match('a',s)"
   ]
  },
  {
   "cell_type": "code",
   "execution_count": 21,
   "metadata": {},
   "outputs": [
    {
     "data": {
      "text/plain": [
       "['a', 'a', 'a']"
      ]
     },
     "execution_count": 21,
     "metadata": {},
     "output_type": "execute_result"
    }
   ],
   "source": [
    "# findall\n",
    "re.findall('a',s)"
   ]
  },
  {
   "cell_type": "code",
   "execution_count": null,
   "metadata": {},
   "outputs": [],
   "source": [
    "# dot\n",
    "# it matches any single character\n",
    "l=['abc','aca','aaa','aba','']\n",
    "for i in l:\n",
    "    if re.search()"
   ]
  },
  {
   "cell_type": "code",
   "execution_count": 30,
   "metadata": {},
   "outputs": [
    {
     "name": "stdout",
     "output_type": "stream",
     "text": [
      "abc\n",
      "ac\n",
      "aaa\n",
      "aba\n"
     ]
    }
   ],
   "source": [
    "l=['abc','ac','aaa','aba','a']\n",
    "for i in l:\n",
    "    if len(i)==2 or len(i)==3:\n",
    "        print(i)"
   ]
  },
  {
   "cell_type": "code",
   "execution_count": 31,
   "metadata": {},
   "outputs": [
    {
     "name": "stdout",
     "output_type": "stream",
     "text": [
      "abc\n",
      "aaa\n",
      "aba\n"
     ]
    }
   ],
   "source": [
    "for i in l:\n",
    "    if re.search('...',i):\n",
    "        print(i)"
   ]
  },
  {
   "cell_type": "code",
   "execution_count": 32,
   "metadata": {},
   "outputs": [
    {
     "name": "stdout",
     "output_type": "stream",
     "text": [
      "abc\n",
      "ac\n",
      "aaa\n",
      "aba\n",
      "a\n"
     ]
    }
   ],
   "source": [
    "for i in l:\n",
    "    if re.search('.',i):\n",
    "        print(i)"
   ]
  },
  {
   "cell_type": "code",
   "execution_count": 33,
   "metadata": {},
   "outputs": [
    {
     "name": "stdout",
     "output_type": "stream",
     "text": [
      "abc\n",
      "ac\n",
      "aaa\n",
      "aba\n"
     ]
    }
   ],
   "source": [
    "for i in l:\n",
    "    if re.search('..',i):\n",
    "        print(i)"
   ]
  },
  {
   "cell_type": "markdown",
   "metadata": {},
   "source": [
    "## * (star)\n",
    "- min value is 0 and max value is anything\n",
    "\n"
   ]
  },
  {
   "cell_type": "code",
   "execution_count": 34,
   "metadata": {},
   "outputs": [
    {
     "name": "stdout",
     "output_type": "stream",
     "text": [
      "abc\n",
      "ac\n",
      "aaa\n",
      "aba\n",
      "a\n"
     ]
    }
   ],
   "source": [
    "for i in l:\n",
    "    if re.search('.*',i):\n",
    "        print(i)"
   ]
  },
  {
   "cell_type": "markdown",
   "metadata": {},
   "source": [
    "# +(Plus)\n",
    "- min value is 1 and max value is any"
   ]
  },
  {
   "cell_type": "code",
   "execution_count": 35,
   "metadata": {},
   "outputs": [
    {
     "name": "stdout",
     "output_type": "stream",
     "text": [
      "aaa\n",
      "aba\n"
     ]
    }
   ],
   "source": [
    "for i in l:\n",
    "    if re.search('a.+a',i):\n",
    "        print(i)"
   ]
  },
  {
   "cell_type": "markdown",
   "metadata": {},
   "source": [
    "## cap(^)\n",
    "- starts with\n",
    "\n",
    "## ($)dollar\n",
    "- endswith\n",
    "\n",
    "## \\d for digits\n",
    "## [] : specific values\n",
    "## {min,max}: min and max values\n",
    "\n"
   ]
  },
  {
   "cell_type": "code",
   "execution_count": 47,
   "metadata": {},
   "outputs": [
    {
     "name": "stdout",
     "output_type": "stream",
     "text": [
      "579\n"
     ]
    }
   ],
   "source": [
    "s='abc 123 hello 456'\n",
    "pattern='\\d+'\n",
    "li=re.findall(pattern,s)\n",
    "print(sum(list(map(int,li))))"
   ]
  },
  {
   "cell_type": "code",
   "execution_count": 49,
   "metadata": {},
   "outputs": [
    {
     "name": "stdout",
     "output_type": "stream",
     "text": [
      "tejaswini\n",
      "soundarya\n",
      "niharikaa\n"
     ]
    }
   ],
   "source": [
    "# printing the 9 lettered words\n",
    "name=['krishna','gayathri','tejaswini','soundarya','pujitha','niharikaa']\n",
    "pattern='.{9}'\n",
    "for i in name:\n",
    "    if re.match(pattern,i):\n",
    "        print(i)"
   ]
  },
  {
   "cell_type": "code",
   "execution_count": 51,
   "metadata": {},
   "outputs": [
    {
     "name": "stdout",
     "output_type": "stream",
     "text": [
      "krishna\n",
      "pujitha\n"
     ]
    }
   ],
   "source": [
    "name=['krishna','gayathri','tejaswini','soundarya','pujitha','niharikaa']\n",
    "pattern='^.{7}$'\n",
    "for i in name:\n",
    "    if re.match(pattern,i):\n",
    "        print(i)"
   ]
  },
  {
   "cell_type": "code",
   "execution_count": 57,
   "metadata": {},
   "outputs": [
    {
     "name": "stdout",
     "output_type": "stream",
     "text": [
      "gayathri\n"
     ]
    }
   ],
   "source": [
    "name=['krishna','gayathri','tejaswini','soundarya','pujitha','niharikaa']\n",
    "pattern='^g.+'\n",
    "for i in name:\n",
    "    if re.match(pattern,i):\n",
    "        print(i)"
   ]
  },
  {
   "cell_type": "code",
   "execution_count": 58,
   "metadata": {},
   "outputs": [
    {
     "name": "stdout",
     "output_type": "stream",
     "text": [
      "Anil\n"
     ]
    }
   ],
   "source": [
    "names=['Ramu','Anil','Prasanna','Venkey','Avinash']\n",
    "pattern='^A.{3}$'\n",
    "for name in names:\n",
    "    if re.match(pattern,name):\n",
    "        print(name)\n"
   ]
  },
  {
   "cell_type": "code",
   "execution_count": 70,
   "metadata": {},
   "outputs": [
    {
     "name": "stdout",
     "output_type": "stream",
     "text": [
      "Ramu\n",
      "Anil\n"
     ]
    }
   ],
   "source": [
    "names=['Ramu','Anil','Prasanna','Venkey','Avinash']\n",
    "pattern='^A.{3}$'\n",
    "pattern1='^[ARP].{3}$'\n",
    "for name in names:\n",
    "    if re.match(pattern1,name):\n",
    "        print(name)\n"
   ]
  },
  {
   "cell_type": "code",
   "execution_count": 63,
   "metadata": {},
   "outputs": [
    {
     "name": "stdout",
     "output_type": "stream",
     "text": [
      "Venkey\n"
     ]
    }
   ],
   "source": [
    "names=['Ramu','Anil','Prasanna','Venkey','Avinash']\n",
    "pattern='^A.{3}$'\n",
    "pattern1='^.+[ey]$'\n",
    "for name in names:\n",
    "    if re.match(pattern1,name):\n",
    "        print(name)\n"
   ]
  },
  {
   "cell_type": "code",
   "execution_count": 77,
   "metadata": {},
   "outputs": [
    {
     "name": "stdout",
     "output_type": "stream",
     "text": [
      "+919090909090 is valid\n",
      "89191919191 is invalid\n",
      "+917292929292 is valid\n",
      "5269090906 is invalid\n",
      "+911234567890 is invalid\n"
     ]
    }
   ],
   "source": [
    "# how to valid a phonenumber\n",
    "# 1. 10 digits\n",
    "# 2. starts with 6-9\n",
    "\n",
    "numbers = ['+919090909090','89191919191','+917292929292','5269090906','+911234567890']\n",
    "pattern='^(\\+91)[6-9]\\d{9}$'\n",
    "for number in numbers:\n",
    "    if re.match(pattern,number):\n",
    "        print(number,\"is valid\")\n",
    "    else:\n",
    "        print(number,\"is invalid\")\n",
    "    "
   ]
  },
  {
   "cell_type": "code",
   "execution_count": 82,
   "metadata": {},
   "outputs": [
    {
     "name": "stdout",
     "output_type": "stream",
     "text": [
      "Enter mail idkrishna0989@gmail.com\n",
      "krishna0989@gmail.com\n"
     ]
    }
   ],
   "source": [
    "# validating mail\n",
    "# starts with any alphabet\n",
    "# any digits\n",
    "#.@gmail.com\n",
    "email=input(\"Enter mail id\")\n",
    "pattern='^[A-Za-z]{1,15}\\d{0,10}[@](gmail.com)$'\n",
    "if re.match(pattern,email):\n",
    "    print(email)"
   ]
  },
  {
   "cell_type": "markdown",
   "metadata": {},
   "source": [
    "## OOPs concept\n",
    "- class-blue print for creating objects\n",
    "- object- physical entity that has state and behaviour\n",
    "- constructor - special method used to create instance variables\n",
    "\n"
   ]
  },
  {
   "cell_type": "code",
   "execution_count": 83,
   "metadata": {},
   "outputs": [],
   "source": [
    "# create a class\n",
    "# using class keyword:\n",
    "\n",
    "class Student:\n",
    "    x=10"
   ]
  },
  {
   "cell_type": "code",
   "execution_count": 84,
   "metadata": {},
   "outputs": [
    {
     "name": "stdout",
     "output_type": "stream",
     "text": [
      "10\n"
     ]
    }
   ],
   "source": [
    "print(Student.x)"
   ]
  },
  {
   "cell_type": "code",
   "execution_count": 86,
   "metadata": {},
   "outputs": [
    {
     "data": {
      "text/plain": [
       "10"
      ]
     },
     "execution_count": 86,
     "metadata": {},
     "output_type": "execute_result"
    }
   ],
   "source": [
    "s=Student()\n",
    "s.x"
   ]
  },
  {
   "cell_type": "code",
   "execution_count": 89,
   "metadata": {},
   "outputs": [
    {
     "name": "stdout",
     "output_type": "stream",
     "text": [
      "10\n"
     ]
    }
   ],
   "source": [
    "\n",
    "class Student:\n",
    "    x=10\n",
    "    s=Student()\n",
    "print(s.x)\n",
    "    "
   ]
  },
  {
   "cell_type": "code",
   "execution_count": 91,
   "metadata": {},
   "outputs": [
    {
     "name": "stdout",
     "output_type": "stream",
     "text": [
      "10\n",
      "hello Krishna\n"
     ]
    }
   ],
   "source": [
    "class Student:\n",
    "    x=10\n",
    "    def display(self,name):\n",
    "        print(\"hello {}\".format(name))\n",
    "s=Student()\n",
    "print(s.x)\n",
    "s.display(\"Krishna\")\n",
    "        "
   ]
  },
  {
   "cell_type": "code",
   "execution_count": 98,
   "metadata": {},
   "outputs": [
    {
     "name": "stdout",
     "output_type": "stream",
     "text": [
      "This is a constructor\n",
      "This is method...\n",
      "My name is:  Gayathri\n",
      "30\n"
     ]
    }
   ],
   "source": [
    "class Student:\n",
    "    x=10\n",
    "    def __init__(self,name):\n",
    "        self.name=name\n",
    "        self.y=20\n",
    "        print(\"This is a constructor\")\n",
    "    def m1(self):\n",
    "        z=30\n",
    "        print(\"This is method...\")\n",
    "        print(\"My name is: \",self.name)\n",
    "        print(z)\n",
    "s=Student('Gayathri')\n",
    "s.m1()\n",
    "\n"
   ]
  },
  {
   "cell_type": "code",
   "execution_count": 94,
   "metadata": {},
   "outputs": [
    {
     "name": "stdout",
     "output_type": "stream",
     "text": [
      "This is a constructor\n"
     ]
    }
   ],
   "source": [
    "s.__init__()"
   ]
  },
  {
   "cell_type": "code",
   "execution_count": 96,
   "metadata": {},
   "outputs": [
    {
     "name": "stdout",
     "output_type": "stream",
     "text": [
      "This is method...\n",
      "30\n"
     ]
    }
   ],
   "source": [
    "s.m1()"
   ]
  },
  {
   "cell_type": "code",
   "execution_count": null,
   "metadata": {},
   "outputs": [],
   "source": []
  }
 ],
 "metadata": {
  "kernelspec": {
   "display_name": "Python 3",
   "language": "python",
   "name": "python3"
  },
  "language_info": {
   "codemirror_mode": {
    "name": "ipython",
    "version": 3
   },
   "file_extension": ".py",
   "mimetype": "text/x-python",
   "name": "python",
   "nbconvert_exporter": "python",
   "pygments_lexer": "ipython3",
   "version": "3.7.3"
  }
 },
 "nbformat": 4,
 "nbformat_minor": 2
}
